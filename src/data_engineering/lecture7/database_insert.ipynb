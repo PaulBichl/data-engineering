{
 "cells": [
  {
   "cell_type": "code",
   "execution_count": 1,
   "id": "60a3d43c",
   "metadata": {},
   "outputs": [
    {
     "name": "stderr",
     "output_type": "stream",
     "text": [
      "C:\\Users\\Danko Petrovic\\AppData\\Local\\Temp\\ipykernel_17908\\490701073.py:1: DeprecationWarning: \n",
      "Pyarrow will become a required dependency of pandas in the next major release of pandas (pandas 3.0),\n",
      "(to allow more performant data types, such as the Arrow string type, and better interoperability with other libraries)\n",
      "but was not found to be installed on your system.\n",
      "If this would cause problems for you,\n",
      "please provide us feedback at https://github.com/pandas-dev/pandas/issues/54466\n",
      "        \n",
      "  import pandas as pd\n"
     ]
    }
   ],
   "source": [
    "import pandas as pd\n",
    "import mysql.connector\n",
    "from mysql.connector import Error"
   ]
  },
  {
   "cell_type": "code",
   "execution_count": 3,
   "id": "19fbade9",
   "metadata": {},
   "outputs": [],
   "source": [
    "\n",
    "# Database connection configuration\n",
    "db_config = {\n",
    "    'host': 'localhost',\n",
    "    'user': 'student',      # Replace with your MySQL username\n",
    "    'password': 'student',  # Replace with your MySQL password\n",
    "    'database': 'smart_home',\n",
    "    'auth_plugin': 'mysql_native_password'\n",
    "}"
   ]
  },
  {
   "cell_type": "code",
   "execution_count": 4,
   "id": "1884f72c",
   "metadata": {},
   "outputs": [
    {
     "name": "stdout",
     "output_type": "stream",
     "text": [
      "CSV loaded successfully.\n",
      "Connected to MySQL database.\n",
      "Inserted 1 records successfully.\n",
      "MySQL connection closed.\n"
     ]
    }
   ],
   "source": [
    "# Inserts temperature and humidity data from a CSV file into a MySQL database.\n",
    "\n",
    "# CSV file path\n",
    "csv_file = \"sensor_data/csv/temperature_humidity.csv\"\n",
    "\n",
    "try:\n",
    "    df = pd.read_csv(csv_file)\n",
    "    print(\"CSV loaded successfully.\")\n",
    "except Exception as e:\n",
    "    print(f\"Error reading CSV: {e}\")\n",
    "    exit()\n",
    "\n",
    "# Create connection\n",
    "try:\n",
    "    conn = mysql.connector.connect(**db_config)\n",
    "    cursor = conn.cursor()\n",
    "    print(\"Connected to MySQL database.\")\n",
    "\n",
    "    # Insert data\n",
    "    insert_query = \"\"\"\n",
    "    INSERT INTO temperature_humidity_readings (sensor_id, timestamp, temperature, temperature_f, humidity)\n",
    "    VALUES (%s, %s, %s, %s, %s)\n",
    "    \"\"\"\n",
    "    for _, row in df.iterrows():\n",
    "        cursor.execute(insert_query, tuple(row))\n",
    "\n",
    "    conn.commit()\n",
    "    print(f\"Inserted {cursor.rowcount} records successfully.\")\n",
    "\n",
    "except Error as e:\n",
    "    print(f\"MySQL error: {e}\")\n",
    "finally:\n",
    "    if conn.is_connected():\n",
    "        cursor.close()\n",
    "        conn.close()\n",
    "        print(\"MySQL connection closed.\")"
   ]
  },
  {
   "cell_type": "code",
   "execution_count": 21,
   "id": "320970cb",
   "metadata": {},
   "outputs": [
    {
     "name": "stdout",
     "output_type": "stream",
     "text": [
      "CSV loaded successfully.\n",
      "Connected to MySQL database.\n",
      "Inserted 1 records successfully.\n",
      "MySQL connection closed.\n"
     ]
    }
   ],
   "source": [
    "# Inserts motion detection data from a CSV file into a MySQL database.\n",
    "\n",
    "# CSV file path\n",
    "csv_file = \"sensor_data/json/motion_detection.csv\"\n",
    "\n",
    "try:\n",
    "    df = pd.read_csv(csv_file)\n",
    "    print(\"CSV loaded successfully.\")\n",
    "except Exception as e:\n",
    "    print(f\"Error reading CSV: {e}\")\n",
    "    exit()\n",
    "\n",
    "# Create connection\n",
    "try:\n",
    "    conn = mysql.connector.connect(**db_config)\n",
    "    cursor = conn.cursor()\n",
    "    print(\"Connected to MySQL database.\")\n",
    "\n",
    "    # Insert data\n",
    "    insert_query = \"\"\"\n",
    "    INSERT INTO motion_detection_readings (sensor_id, timestamp, motion_detected, day_of_week)\n",
    "    VALUES (%s, %s, %s, %s)\n",
    "    \"\"\"\n",
    "    for _, row in df.iterrows():\n",
    "        cursor.execute(insert_query, tuple(row))\n",
    "\n",
    "    conn.commit()\n",
    "    print(f\"Inserted {cursor.rowcount} records successfully.\")\n",
    "\n",
    "except Error as e:\n",
    "    print(f\"MySQL error: {e}\")\n",
    "finally:\n",
    "    if conn.is_connected():\n",
    "        cursor.close()\n",
    "        conn.close()\n",
    "        print(\"MySQL connection closed.\")\n",
    "\n"
   ]
  },
  {
   "cell_type": "code",
   "execution_count": 22,
   "id": "cdc7059a",
   "metadata": {},
   "outputs": [
    {
     "name": "stdout",
     "output_type": "stream",
     "text": [
      "CSV loaded successfully.\n",
      "Connected to MySQL database.\n",
      "Inserted 1 records successfully.\n",
      "MySQL connection closed.\n"
     ]
    }
   ],
   "source": [
    "# Inserts air quality readings data from a CSV file into a MySQL database.\n",
    "\n",
    "# CSV file path\n",
    "csv_file = \"sensor_data/xml/air_quality_readings.csv\"\n",
    "\n",
    "try:\n",
    "    df = pd.read_csv(csv_file)\n",
    "    print(\"CSV loaded successfully.\")\n",
    "except Exception as e:\n",
    "    print(f\"Error reading CSV: {e}\")\n",
    "    exit()\n",
    "\n",
    "# Create connection\n",
    "try:\n",
    "    conn = mysql.connector.connect(**db_config)\n",
    "    cursor = conn.cursor()\n",
    "    print(\"Connected to MySQL database.\")\n",
    "\n",
    "    # Insert data\n",
    "    insert_query = \"\"\"\n",
    "    INSERT INTO air_quality_readings (sensor_id, timestamp, pm2_5, pm10, so2, no2, health_environment)\n",
    "    VALUES (%s, %s, %s, %s, %s, %s, %s)\n",
    "    \"\"\"\n",
    "    for _, row in df.iterrows():\n",
    "        cursor.execute(insert_query, tuple(row))\n",
    "\n",
    "    conn.commit()\n",
    "    print(f\"Inserted {cursor.rowcount} records successfully.\")\n",
    "\n",
    "except Error as e:\n",
    "    print(f\"MySQL error: {e}\")\n",
    "finally:\n",
    "    if conn.is_connected():\n",
    "        cursor.close()\n",
    "        conn.close()\n",
    "        print(\"MySQL connection closed.\")\n",
    "\n"
   ]
  }
 ],
 "metadata": {
  "kernelspec": {
   "display_name": ".venv",
   "language": "python",
   "name": "python3"
  },
  "language_info": {
   "codemirror_mode": {
    "name": "ipython",
    "version": 3
   },
   "file_extension": ".py",
   "mimetype": "text/x-python",
   "name": "python",
   "nbconvert_exporter": "python",
   "pygments_lexer": "ipython3",
   "version": "3.12.6"
  }
 },
 "nbformat": 4,
 "nbformat_minor": 5
}
