{
 "cells": [
  {
   "cell_type": "code",
   "execution_count": null,
   "id": "126a7076",
   "metadata": {},
   "outputs": [],
   "source": [
    "\n",
    "import os, time, pandas as pd,random\n",
    "from datetime import datetime\n",
    "\n",
    "# Output directory\n",
    "output_dir = \"sensor_data/csv\"\n",
    "os.makedirs(output_dir, exist_ok=True)\n",
    "\n",
    "# Define the headers for the CSV file related to customer transactions\n",
    "header = ['sensor_id', 'timestamp', 'temperature', 'humidity']\n"
   ]
  },
  {
   "cell_type": "code",
   "execution_count": 4,
   "id": "768704b7",
   "metadata": {},
   "outputs": [],
   "source": [
    "\n",
    "# Generate random temperature and humidity data\n",
    "def generate_temperature_humidity_data(sensor_id=1):\n",
    "    return {\n",
    "        \"sensor_id\": sensor_id,\n",
    "        \"timestamp\": datetime.now().isoformat(),\n",
    "        \"temperature\": round(random.uniform(18, 30), 2),\n",
    "        \"humidity\": round(random.uniform(40, 70), 2)\n",
    "    }\n"
   ]
  },
  {
   "cell_type": "code",
   "execution_count": null,
   "id": "a229536d",
   "metadata": {},
   "outputs": [],
   "source": [
    "# Save data as CSV\n",
    "def save_temperature_humidity_csv(filename, data):\n",
    "    filepath = os.path.join(output_dir, filename)\n",
    "    df = pd.DataFrame(data)\n",
    "    df.to_csv(filepath, mode='w', index=False, header=True)  \n",
    "    print(f\"Saved Temperature & Humidity CSV: {filepath}\")"
   ]
  },
  {
   "cell_type": "code",
   "execution_count": 7,
   "id": "4d686415",
   "metadata": {},
   "outputs": [
    {
     "name": "stdout",
     "output_type": "stream",
     "text": [
      "{'sensor_id': 1, 'timestamp': '2025-03-02T14:38:04.124482', 'temperature': 26.78, 'humidity': 51.39}\n",
      "{'sensor_id': 1, 'timestamp': '2025-03-02T14:38:05.125005', 'temperature': 24.09, 'humidity': 64.74}\n",
      "Saved Temperature & Humidity CSV: sensor_data/csv\\temperature_humidity.csv\n"
     ]
    }
   ],
   "source": [
    "\n",
    "# User input for number of times to run\n",
    "num_iterations = int(input(\"Enter number of readings to generate: \"))\n",
    "\n",
    "temperature_humidity_sensor_data = []\n",
    "# Generate and save sensor data\n",
    "for i in range(num_iterations):\n",
    "    temperature_humidity_data = generate_temperature_humidity_data()\n",
    "    temperature_humidity_sensor_data.append(temperature_humidity_data)\n",
    "    print(temperature_humidity_data)\n",
    "    time.sleep(1)\n",
    "\n",
    "save_temperature_humidity_csv(\"temperature_humidity.csv\", temperature_humidity_sensor_data)\n"
   ]
  }
 ],
 "metadata": {
  "kernelspec": {
   "display_name": ".venv",
   "language": "python",
   "name": "python3"
  },
  "language_info": {
   "codemirror_mode": {
    "name": "ipython",
    "version": 3
   },
   "file_extension": ".py",
   "mimetype": "text/x-python",
   "name": "python",
   "nbconvert_exporter": "python",
   "pygments_lexer": "ipython3",
   "version": "3.12.6"
  }
 },
 "nbformat": 4,
 "nbformat_minor": 5
}
