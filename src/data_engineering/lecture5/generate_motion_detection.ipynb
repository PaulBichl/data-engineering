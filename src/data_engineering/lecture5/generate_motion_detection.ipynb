{
 "cells": [
  {
   "cell_type": "code",
   "execution_count": 7,
   "id": "b768b19f",
   "metadata": {},
   "outputs": [],
   "source": [
    "\n",
    "import os\n",
    "import json\n",
    "import random\n",
    "import time\n",
    "from datetime import datetime\n",
    "import pandas as pd\n",
    "# Create output directory\n",
    "output_dir = \"sensor_data/json\"\n",
    "os.makedirs(output_dir, exist_ok=True)\n"
   ]
  },
  {
   "cell_type": "code",
   "execution_count": 4,
   "id": "606bceaf",
   "metadata": {},
   "outputs": [],
   "source": [
    "\n",
    "# Function to generate random motion detection data\n",
    "def generate_motion_detection_data(sensor_id=2):\n",
    "    return {\n",
    "        \"sensor_id\": sensor_id,\n",
    "        \"timestamp\": datetime.now().isoformat() if random.random() > 0.1 else None,\n",
    "        \"motion_detected\": random.choice([True, False])\n",
    "    }\n",
    "\n",
    "# Function to save data as JSON\n",
    "def save_motion_json(filename, data):\n",
    "    filepath = os.path.join(output_dir, filename)\n",
    "    with open(filepath, \"w\") as file:\n",
    "        json.dump(data, file, indent=4)\n",
    "        file.write(\"\\n\")\n",
    "    print(f\"Saved Motion Detection JSON: {filepath}\")\n"
   ]
  },
  {
   "cell_type": "code",
   "execution_count": 5,
   "id": "6450eb89",
   "metadata": {},
   "outputs": [
    {
     "name": "stdout",
     "output_type": "stream",
     "text": [
      "Saved Motion Detection JSON: sensor_data/json\\motion_detection_errors.json\n"
     ]
    }
   ],
   "source": [
    "\n",
    "# User input for number of times to run\n",
    "num_iterations = int(input(\"Enter number of motion detection readings to generate: \"))\n",
    "\n",
    "# Generate multiple batches of motion data\n",
    "movements = []\n",
    "for i in range(num_iterations):\n",
    "    motion_data = generate_motion_detection_data()\n",
    "    if i%2 == 0:\n",
    "        movements.append(motion_data)\n",
    "    movements.append(motion_data)\n",
    "    time.sleep(0.01)  # Simulate real-time data generation\n",
    "\n",
    "# Save all motion data as a single JSON array\n",
    "save_motion_json(\"motion_detection_errors.json\", movements)\n"
   ]
  },
  {
   "cell_type": "code",
   "execution_count": null,
   "id": "52aeac85",
   "metadata": {},
   "outputs": [
    {
     "name": "stdout",
     "output_type": "stream",
     "text": [
      "Saved Motion Detection JSON: sensor_data/json\\motion_detection.json\n"
     ]
    }
   ],
   "source": [
    "movements = pd.DataFrame(movements)\n",
    "movements.dropna(inplace=True)\n",
    "movements.drop_duplicates(inplace=True)\n",
    "# Save the cleaned data as a new JSON file\n",
    "save_motion_json(\"motion_detection.json\", movements.to_dict(orient=\"records\"))\n"
   ]
  },
  {
   "cell_type": "code",
   "execution_count": 10,
   "id": "64974bb4",
   "metadata": {},
   "outputs": [],
   "source": [
    "filename = \"sensor_data/motion_detection.csv\"\n",
    "movements.to_csv(filename, index=False)"
   ]
  }
 ],
 "metadata": {
  "kernelspec": {
   "display_name": "data-engineering",
   "language": "python",
   "name": "python3"
  },
  "language_info": {
   "codemirror_mode": {
    "name": "ipython",
    "version": 3
   },
   "file_extension": ".py",
   "mimetype": "text/x-python",
   "name": "python",
   "nbconvert_exporter": "python",
   "pygments_lexer": "ipython3",
   "version": "3.12.0"
  }
 },
 "nbformat": 4,
 "nbformat_minor": 5
}
