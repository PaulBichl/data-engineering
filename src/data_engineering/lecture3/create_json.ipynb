{
 "cells": [
  {
   "cell_type": "code",
   "execution_count": 7,
   "metadata": {},
   "outputs": [],
   "source": [
    "import json"
   ]
  },
  {
   "cell_type": "code",
   "execution_count": null,
   "metadata": {},
   "outputs": [],
   "source": [
    "data = {\n",
    "    \"sensor_id\": 2,\n",
    "    \"timestamp\":\"2025-02-22T21:11:35:121623\",\n",
    "    \"motion_dedected\": True,\n",
    "    \"status\": {\n",
    "        \"firmware\": \"3.25.12\",\n",
    "        \"power\": \"grid\",\n",
    "    }\n",
    "}"
   ]
  },
  {
   "cell_type": "code",
   "execution_count": 9,
   "metadata": {},
   "outputs": [],
   "source": [
    "import time\n",
    "from datetime import datetime\n",
    "def SensorToJSON(sensor_id:int, motion_dedected:bool, filename:str):\n",
    "    timestamp = datetime.now().isoformat()\n",
    "    try:\n",
    "        filedata = json.load(open(filename))\n",
    "    except:\n",
    "        filedata = []\n",
    "    filedata.append({\n",
    "        \"sensor_id\": sensor_id,\n",
    "        \"timestamp\": timestamp,\n",
    "        \"motion_dedected\": motion_dedected\n",
    "    })\n",
    "    with open(filename, \"w\") as json_file:\n",
    "        json.dump(filedata, json_file, indent=4)\n",
    "    json_file.close()\n",
    "\n",
    "def clearJSON(filename:str):\n",
    "    with open(filename, \"w\") as json_file:\n",
    "        json.dump([], json_file, indent=4)      \n"
   ]
  },
  {
   "cell_type": "code",
   "execution_count": null,
   "metadata": {},
   "outputs": [],
   "source": [
    "import random\n",
    "filename = \"data3.json\"\n",
    "for i in range(10):\n",
    "    # time.sleep(0.1)\n",
    "    SensorToJSON(3, bool(random.getrandbits(1)), filename)"
   ]
  },
  {
   "cell_type": "code",
   "execution_count": 13,
   "metadata": {},
   "outputs": [],
   "source": [
    "clearJSON(filename)"
   ]
  },
  {
   "cell_type": "code",
   "execution_count": null,
   "metadata": {},
   "outputs": [],
   "source": []
  }
 ],
 "metadata": {
  "kernelspec": {
   "display_name": "data-engineering",
   "language": "python",
   "name": "python3"
  },
  "language_info": {
   "codemirror_mode": {
    "name": "ipython",
    "version": 3
   },
   "file_extension": ".py",
   "mimetype": "text/x-python",
   "name": "python",
   "nbconvert_exporter": "python",
   "pygments_lexer": "ipython3",
   "version": "3.12.0"
  }
 },
 "nbformat": 4,
 "nbformat_minor": 2
}
