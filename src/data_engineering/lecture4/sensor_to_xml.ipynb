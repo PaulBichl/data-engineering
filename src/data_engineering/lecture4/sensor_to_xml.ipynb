{
 "cells": [
  {
   "cell_type": "code",
   "execution_count": null,
   "metadata": {},
   "outputs": [],
   "source": [
    "\n",
    "import os\n",
    "import random\n",
    "import time\n",
    "from datetime import datetime\n",
    "import xml.etree.ElementTree as ET\n",
    "from xml.dom import minidom\n",
    "\n",
    "# Create output directory\n",
    "output_dir = \"./data\"\n",
    "os.makedirs(output_dir, exist_ok=True)\n",
    "\n",
    "\n",
    "def generate_air_quality_data(sensor_id=3):\n",
    "    return {\n",
    "        \"sensor_id\": sensor_id,\n",
    "        \"timestamp\": datetime.now().isoformat(),\n",
    "        \"pm2_5\": round(random.uniform(0, 250), 2),\n",
    "        \"pm10\": round(random.uniform(0, 500), 2),\n",
    "        \"so2\": round(random.uniform(0, 300), 2),\n",
    "        \"no2\": round(random.uniform(0, 500), 2)\n",
    "    }\n",
    "\n",
    "# Function to save data as XML\n",
    "def save_air_quality_xml(filename, data):\n",
    "    root = ET.Element(\"AirQualityReadings\")\n",
    "    for reading in data:\n",
    "        reading_elem = ET.SubElement(root, \"Reading\")\n",
    "        for key, value in reading.items():\n",
    "            elem = ET.SubElement(reading_elem, key)\n",
    "            elem.text = str(value)\n",
    "    # Convert to string and pretty-print\n",
    "    rough_string = ET.tostring(root, 'utf-8')\n",
    "    reparsed = minidom.parseString(rough_string)\n",
    "    pretty_xml = reparsed.toprettyxml(indent=\"  \")\n",
    "\n",
    "    # Save to file\n",
    "    filepath = os.path.join(output_dir, filename)\n",
    "    with open(filepath, \"w\", encoding=\"utf-8\") as f:\n",
    "        f.write(pretty_xml)\n"
   ]
  },
  {
   "cell_type": "code",
   "execution_count": null,
   "metadata": {},
   "outputs": [],
   "source": [
    "reading = []\n",
    "for i in range(20):\n",
    "    air_quality_data = generate_air_quality_data()\n",
    "    print(air_quality_data)\n",
    "    readings.append(air_quality_data)\n",
    "\n",
    "save_air_quality_xml(\"air_quality_readings.xml\", readings)\n"
   ]
  }
 ],
 "metadata": {
  "kernelspec": {
   "display_name": "data-engineering",
   "language": "python",
   "name": "python3"
  },
  "language_info": {
   "codemirror_mode": {
    "name": "ipython",
    "version": 3
   },
   "file_extension": ".py",
   "mimetype": "text/x-python",
   "name": "python",
   "nbconvert_exporter": "python",
   "pygments_lexer": "ipython3",
   "version": "3.12.0"
  }
 },
 "nbformat": 4,
 "nbformat_minor": 2
}
