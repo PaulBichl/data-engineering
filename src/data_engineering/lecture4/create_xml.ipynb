{
 "cells": [
  {
   "cell_type": "code",
   "execution_count": 1,
   "metadata": {},
   "outputs": [],
   "source": [
    "import xml.etree.ElementTree as ET\n",
    "from xml.dom import minidom"
   ]
  },
  {
   "cell_type": "code",
   "execution_count": 10,
   "metadata": {},
   "outputs": [],
   "source": [
    "path = \"./data/\"\n",
    "root = ET.Element(\"AirQualityReadings\")\n",
    "readings_data = [\n",
    "    {\"sensor_id\": \"1\", \"timestamp\": \"2021-01-01T00:00:00\", \"pm_5\": \"192.02\", \"pm_10\": \"192.02\", \"so2\": \"1231.23\", \"no2\": \"23\"},\n",
    "    {\"sensor_id\": \"2\", \"timestamp\": \"2021-01-01T00:00:00\", \"pm_5\": \"192.02\", \"pm_10\": \"192.02\", \"so2\": \"1231.23\", \"no2\": \"23\"},\n",
    "    {\"sensor_id\": \"3\", \"timestamp\": \"2021-01-01T00:00:00\", \"pm_5\": \"192.02\", \"pm_10\": \"192.02\", \"so2\": \"1231.23\", \"no2\": \"23\"},\n",
    "    {\"sensor_id\": \"4\", \"timestamp\": \"2021-01-01T00:00:00\", \"pm_5\": \"192.02\", \"pm_10\": \"192.02\", \"so2\": \"1231.23\", \"no2\": \"23\"},\n",
    "]"
   ]
  },
  {
   "cell_type": "code",
   "execution_count": 11,
   "metadata": {},
   "outputs": [],
   "source": [
    "for data in readings_data:\n",
    "    element = ET.SubElement(root, \"Reading\")\n",
    "    for key,value in data.items():\n",
    "        child = ET.SubElement(element, key)\n",
    "        child.text = value"
   ]
  },
  {
   "cell_type": "code",
   "execution_count": 14,
   "metadata": {},
   "outputs": [],
   "source": [
    "xml_str = ET.tostring(root, encoding='utf8')\n",
    "prettey_xml_as_string = minidom.parseString(xml_str).toprettyxml(indent=\"    \")\n",
    "\n",
    "filename = \"data2.xml\""
   ]
  },
  {
   "cell_type": "code",
   "execution_count": 15,
   "metadata": {},
   "outputs": [],
   "source": [
    "filename = path + \"test.xml\"\n",
    "with open(filename, \"w\") as f:\n",
    "    f.write(prettey_xml_as_string)"
   ]
  },
  {
   "cell_type": "code",
   "execution_count": 21,
   "metadata": {},
   "outputs": [],
   "source": [
    "filename = path + \"test.xml\"\n",
    "with open(filename, \"a\") as f:\n",
    "    f.write(prettey_xml_as_string)"
   ]
  }
 ],
 "metadata": {
  "kernelspec": {
   "display_name": "data-engineering",
   "language": "python",
   "name": "python3"
  },
  "language_info": {
   "codemirror_mode": {
    "name": "ipython",
    "version": 3
   },
   "file_extension": ".py",
   "mimetype": "text/x-python",
   "name": "python",
   "nbconvert_exporter": "python",
   "pygments_lexer": "ipython3",
   "version": "3.12.0"
  }
 },
 "nbformat": 4,
 "nbformat_minor": 2
}
