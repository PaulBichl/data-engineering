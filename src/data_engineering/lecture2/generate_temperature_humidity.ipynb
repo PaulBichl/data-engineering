{
 "cells": [
  {
   "cell_type": "code",
   "execution_count": 1,
   "metadata": {},
   "outputs": [],
   "source": [
    "import os, time, pandas as pd, random\n",
    "from datetime import datetime"
   ]
  },
  {
   "cell_type": "code",
   "execution_count": 2,
   "metadata": {},
   "outputs": [],
   "source": [
    "output_dir = \"./csv\"\n",
    "os.makedirs(output_dir, exist_ok=True)"
   ]
  },
  {
   "cell_type": "code",
   "execution_count": 3,
   "metadata": {},
   "outputs": [],
   "source": [
    "header = [\"sensor_id\", \"time\", \"temperature\",\"humidity\"]"
   ]
  },
  {
   "cell_type": "code",
   "execution_count": null,
   "metadata": {},
   "outputs": [],
   "source": [
    "def generate_temperature_humidity_data(sensor_id=1):\n",
    "        return {\n",
    "            \"sensor_id\": sensor_id,\n",
    "            \"timestamp\": datetime.now().isoformat(),\n",
    "            \"temperature\": round(random.uniform(18, 30), 2),\n",
    "            \"humidity\": round(random.uniform(40, 70), 2),\n",
    "        }"
   ]
  },
  {
   "cell_type": "code",
   "execution_count": null,
   "metadata": {},
   "outputs": [],
   "source": [
    "def save_temperature_humidity_csv(filename, data):\n",
    "    filepath = os.path.join(output_dir, filename)\n",
    "    df = pd.DataFrame(data)\n",
    "    df.to_csv(filepath, mode='w', index=False, header=True)  \n",
    "    print(f\"Saved Temperature & Humidity CSV: {filepath}\")\n",
    "\n",
    "num_iterations = 50"
   ]
  },
  {
   "cell_type": "code",
   "execution_count": null,
   "metadata": {},
   "outputs": [
    {
     "name": "stdout",
     "output_type": "stream",
     "text": [
      "{'sensor_id': 1, 'timestamp': '2025-03-17T15:51:07.426446', 'temperature': 24.03, 'humidity': 55.75}\n",
      "{'sensor_id': 1, 'timestamp': '2025-03-17T15:51:07.426446', 'temperature': 20.81, 'humidity': 54.45}\n",
      "{'sensor_id': 1, 'timestamp': '2025-03-17T15:51:07.427446', 'temperature': 25.06, 'humidity': 59.64}\n",
      "{'sensor_id': 1, 'timestamp': '2025-03-17T15:51:07.427446', 'temperature': 29.52, 'humidity': 40.88}\n",
      "{'sensor_id': 1, 'timestamp': '2025-03-17T15:51:07.427446', 'temperature': 20.3, 'humidity': 53.98}\n",
      "{'sensor_id': 1, 'timestamp': '2025-03-17T15:51:07.427446', 'temperature': 18.72, 'humidity': 40.75}\n",
      "{'sensor_id': 1, 'timestamp': '2025-03-17T15:51:07.427446', 'temperature': 18.21, 'humidity': 54.87}\n",
      "{'sensor_id': 1, 'timestamp': '2025-03-17T15:51:07.427446', 'temperature': 19.27, 'humidity': 48.92}\n",
      "{'sensor_id': 1, 'timestamp': '2025-03-17T15:51:07.427446', 'temperature': 25.72, 'humidity': 42.25}\n",
      "{'sensor_id': 1, 'timestamp': '2025-03-17T15:51:07.427446', 'temperature': 24.84, 'humidity': 49.27}\n",
      "{'sensor_id': 1, 'timestamp': '2025-03-17T15:51:07.427446', 'temperature': 21.32, 'humidity': 49.56}\n",
      "{'sensor_id': 1, 'timestamp': '2025-03-17T15:51:07.427446', 'temperature': 27.41, 'humidity': 48.61}\n",
      "{'sensor_id': 1, 'timestamp': '2025-03-17T15:51:07.427446', 'temperature': 28.66, 'humidity': 58.23}\n",
      "{'sensor_id': 1, 'timestamp': '2025-03-17T15:51:07.427446', 'temperature': 23.85, 'humidity': 40.18}\n",
      "{'sensor_id': 1, 'timestamp': '2025-03-17T15:51:07.427446', 'temperature': 25.02, 'humidity': 47.36}\n",
      "{'sensor_id': 1, 'timestamp': '2025-03-17T15:51:07.427446', 'temperature': 26.84, 'humidity': 63.22}\n",
      "{'sensor_id': 1, 'timestamp': '2025-03-17T15:51:07.427446', 'temperature': 22.34, 'humidity': 51.93}\n",
      "{'sensor_id': 1, 'timestamp': '2025-03-17T15:51:07.427446', 'temperature': 25.61, 'humidity': 54.97}\n",
      "{'sensor_id': 1, 'timestamp': '2025-03-17T15:51:07.427446', 'temperature': 28.26, 'humidity': 56.62}\n",
      "{'sensor_id': 1, 'timestamp': '2025-03-17T15:51:07.427446', 'temperature': 19.57, 'humidity': 59.03}\n",
      "{'sensor_id': 1, 'timestamp': '2025-03-17T15:51:07.427446', 'temperature': 25.6, 'humidity': 52.61}\n",
      "{'sensor_id': 1, 'timestamp': '2025-03-17T15:51:07.427446', 'temperature': 25.64, 'humidity': 69.85}\n",
      "{'sensor_id': 1, 'timestamp': '2025-03-17T15:51:07.427446', 'temperature': 26.61, 'humidity': 43.78}\n",
      "{'sensor_id': 1, 'timestamp': '2025-03-17T15:51:07.427446', 'temperature': 18.7, 'humidity': 40.85}\n",
      "{'sensor_id': 1, 'timestamp': '2025-03-17T15:51:07.427446', 'temperature': 19.91, 'humidity': 53.58}\n",
      "{'sensor_id': 1, 'timestamp': '2025-03-17T15:51:07.427446', 'temperature': 21.48, 'humidity': 69.2}\n",
      "{'sensor_id': 1, 'timestamp': '2025-03-17T15:51:07.427446', 'temperature': 28.97, 'humidity': 43.0}\n",
      "{'sensor_id': 1, 'timestamp': '2025-03-17T15:51:07.427446', 'temperature': 23.97, 'humidity': 69.79}\n",
      "{'sensor_id': 1, 'timestamp': '2025-03-17T15:51:07.427446', 'temperature': 20.82, 'humidity': 63.43}\n",
      "{'sensor_id': 1, 'timestamp': '2025-03-17T15:51:07.427446', 'temperature': 23.76, 'humidity': 44.25}\n",
      "{'sensor_id': 1, 'timestamp': '2025-03-17T15:51:07.427446', 'temperature': 19.06, 'humidity': 63.38}\n",
      "{'sensor_id': 1, 'timestamp': '2025-03-17T15:51:07.427446', 'temperature': 28.18, 'humidity': 62.2}\n",
      "{'sensor_id': 1, 'timestamp': '2025-03-17T15:51:07.427446', 'temperature': 27.19, 'humidity': 46.42}\n",
      "{'sensor_id': 1, 'timestamp': '2025-03-17T15:51:07.427446', 'temperature': 27.29, 'humidity': 40.68}\n",
      "{'sensor_id': 1, 'timestamp': '2025-03-17T15:51:07.427446', 'temperature': 22.84, 'humidity': 50.83}\n",
      "{'sensor_id': 1, 'timestamp': '2025-03-17T15:51:07.427446', 'temperature': 29.24, 'humidity': 48.11}\n",
      "{'sensor_id': 1, 'timestamp': '2025-03-17T15:51:07.427446', 'temperature': 21.09, 'humidity': 67.64}\n",
      "{'sensor_id': 1, 'timestamp': '2025-03-17T15:51:07.427446', 'temperature': 24.94, 'humidity': 61.91}\n",
      "{'sensor_id': 1, 'timestamp': '2025-03-17T15:51:07.427446', 'temperature': 20.6, 'humidity': 47.4}\n",
      "{'sensor_id': 1, 'timestamp': '2025-03-17T15:51:07.427446', 'temperature': 23.62, 'humidity': 45.74}\n",
      "{'sensor_id': 1, 'timestamp': '2025-03-17T15:51:07.427446', 'temperature': 19.15, 'humidity': 49.88}\n",
      "{'sensor_id': 1, 'timestamp': '2025-03-17T15:51:07.427446', 'temperature': 23.67, 'humidity': 62.59}\n",
      "{'sensor_id': 1, 'timestamp': '2025-03-17T15:51:07.427446', 'temperature': 26.31, 'humidity': 65.85}\n",
      "{'sensor_id': 1, 'timestamp': '2025-03-17T15:51:07.427446', 'temperature': 18.16, 'humidity': 40.95}\n",
      "{'sensor_id': 1, 'timestamp': '2025-03-17T15:51:07.427446', 'temperature': 21.91, 'humidity': 51.02}\n",
      "{'sensor_id': 1, 'timestamp': '2025-03-17T15:51:07.427446', 'temperature': 19.59, 'humidity': 58.2}\n",
      "{'sensor_id': 1, 'timestamp': '2025-03-17T15:51:07.427446', 'temperature': 19.09, 'humidity': 44.79}\n",
      "{'sensor_id': 1, 'timestamp': '2025-03-17T15:51:07.427446', 'temperature': 26.29, 'humidity': 65.64}\n",
      "{'sensor_id': 1, 'timestamp': '2025-03-17T15:51:07.427446', 'temperature': 28.54, 'humidity': 42.65}\n",
      "{'sensor_id': 1, 'timestamp': '2025-03-17T15:51:07.427446', 'temperature': 25.9, 'humidity': 67.31}\n",
      "Saved Temperature & Humidity CSV: ./csv\\temperature_humidity.csv\n"
     ]
    }
   ],
   "source": [
    "temperature_humidity_sensor_data = []\n",
    "for i in range(num_iterations):\n",
    "    temperature_humidity_data = generate_temperature_humidity_data()\n",
    "    temperature_humidity_sensor_data.append(temperature_humidity_data)\n",
    "    print(temperature_humidity_data)\n",
    "\n",
    "\n",
    "save_temperature_humidity_csv(\"temperature_humidity.csv\", temperature_humidity_sensor_data)\n",
    "\n"
   ]
  }
 ],
 "metadata": {
  "kernelspec": {
   "display_name": "data-engineering",
   "language": "python",
   "name": "python3"
  },
  "language_info": {
   "codemirror_mode": {
    "name": "ipython",
    "version": 3
   },
   "file_extension": ".py",
   "mimetype": "text/x-python",
   "name": "python",
   "nbconvert_exporter": "python",
   "pygments_lexer": "ipython3",
   "version": "3.12.0"
  }
 },
 "nbformat": 4,
 "nbformat_minor": 2
}
